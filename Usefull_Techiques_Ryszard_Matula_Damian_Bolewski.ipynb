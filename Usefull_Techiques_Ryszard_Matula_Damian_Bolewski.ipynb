{
 "cells": [
  {
   "cell_type": "markdown",
   "metadata": {
    "collapsed": true,
    "pycharm": {
     "name": "#%% md\n"
    }
   },
   "source": [
    "# Przydatne techniki\n",
    "\n",
    "W tym laboratorium główny nacisk zostanie położony na obsługę wejścia/wyjścia, obsługa popularnych formatów w języku Python (_Excel_/_JSON_/_Parquet_) oraz operacje związane przeglądanie plików i katalogów w systemie plików. Język Python jest niezależny od systemu operacyjnego, który definiuje w jaki sposób fizycznie obsługiwane są pliki. Wiele wysiłku włożono w utworzenie warstwy abstrakcji, która pośredniczy w wywoływaniu funkcji systemowych. Z tego też powodu łączenie katalogu i kolejnych podkatalogów wymaga użycia odpowiedniej funkcji, nie zwykłej konkatenacji łańcuchów znaków zawierających kolejne katalogi. Dodatkowo zostaną przedstawione tematy pokrewne, jak obsługa plikowej bazy danych `sqlite` (transakcyjnej i spełniającej zasady _ACID_) przy użyciu _ORM_ (Object-relational mapping), do czego zostanie użyty moduł `SqlAlchemy` oraz serializacja, deserializacja obiektów przy użyciu modułu `pickle`.\n",
    "\n",
    "## System plików\n",
    "\n",
    "Pierwszym przykładem użycia Pythona do obsługi systemu plików będzie rekurencyjne wyświetlenie listy plików. Do tego celu można użyć bardzo przydatnej funkcji `os.walk`, która wyświetla wszystkie pliki i podkatalogi w katalogu podanym w parametrze. Wszystkie nazwy przekazane z funkcji nie zawierają pełnej ścieżki, a jedynie jej relatywną część. W wielu przypadkach potrzebna jest absolutna ścieżka do bieżącego katalogu. Do jej pobrania można użyć wbudowanej funkcji `os.getcwd()` (akronim od _get current working directory_)."
   ]
  },
  {
   "cell_type": "code",
   "execution_count": 18,
   "metadata": {
    "pycharm": {
     "name": "#%%\n"
    }
   },
   "outputs": [
    {
     "name": "stdout",
     "output_type": "stream",
     "text": [
      "C:\\Users\\lukaszstrak\\Dropbox\\Publikacje\\Dydaktyka\\Nowoczesne języki programowania obiektowego II\\collections.ipynb\n",
      "C:\\Users\\lukaszstrak\\Dropbox\\Publikacje\\Dydaktyka\\Nowoczesne języki programowania obiektowego II\\functions.ipynb\n",
      "C:\\Users\\lukaszstrak\\Dropbox\\Publikacje\\Dydaktyka\\Nowoczesne języki programowania obiektowego II\\introduction.ipynb\n",
      "C:\\Users\\lukaszstrak\\Dropbox\\Publikacje\\Dydaktyka\\Nowoczesne języki programowania obiektowego II\\objective_programming.ipynb\n",
      "C:\\Users\\lukaszstrak\\Dropbox\\Publikacje\\Dydaktyka\\Nowoczesne języki programowania obiektowego II\\usefull_techiques.ipynb\n",
      "C:\\Users\\lukaszstrak\\Dropbox\\Publikacje\\Dydaktyka\\Nowoczesne języki programowania obiektowego II\\.idea\\.gitignore\n",
      "C:\\Users\\lukaszstrak\\Dropbox\\Publikacje\\Dydaktyka\\Nowoczesne języki programowania obiektowego II\\.idea\\misc.xml\n",
      "C:\\Users\\lukaszstrak\\Dropbox\\Publikacje\\Dydaktyka\\Nowoczesne języki programowania obiektowego II\\.idea\\modules.xml\n",
      "C:\\Users\\lukaszstrak\\Dropbox\\Publikacje\\Dydaktyka\\Nowoczesne języki programowania obiektowego II\\.idea\\Nowoczesne języki programowania obiektowego II.iml\n",
      "C:\\Users\\lukaszstrak\\Dropbox\\Publikacje\\Dydaktyka\\Nowoczesne języki programowania obiektowego II\\.idea\\workspace.xml\n",
      "C:\\Users\\lukaszstrak\\Dropbox\\Publikacje\\Dydaktyka\\Nowoczesne języki programowania obiektowego II\\.idea\\dictionaries\\lukaszstrak.xml\n",
      "C:\\Users\\lukaszstrak\\Dropbox\\Publikacje\\Dydaktyka\\Nowoczesne języki programowania obiektowego II\\.idea\\inspectionProfiles\\profiles_settings.xml\n",
      "C:\\Users\\lukaszstrak\\Dropbox\\Publikacje\\Dydaktyka\\Nowoczesne języki programowania obiektowego II\\.idea\\inspectionProfiles\\Project_Default.xml\n",
      "C:\\Users\\lukaszstrak\\Dropbox\\Publikacje\\Dydaktyka\\Nowoczesne języki programowania obiektowego II\\.idea\\dictionaries\\lukaszstrak.xml\n",
      "C:\\Users\\lukaszstrak\\Dropbox\\Publikacje\\Dydaktyka\\Nowoczesne języki programowania obiektowego II\\.idea\\inspectionProfiles\\profiles_settings.xml\n",
      "C:\\Users\\lukaszstrak\\Dropbox\\Publikacje\\Dydaktyka\\Nowoczesne języki programowania obiektowego II\\.idea\\inspectionProfiles\\Project_Default.xml\n",
      "C:\\Users\\lukaszstrak\\Dropbox\\Publikacje\\Dydaktyka\\Nowoczesne języki programowania obiektowego II\\.idea\\.gitignore\n",
      "C:\\Users\\lukaszstrak\\Dropbox\\Publikacje\\Dydaktyka\\Nowoczesne języki programowania obiektowego II\\.idea\\misc.xml\n",
      "C:\\Users\\lukaszstrak\\Dropbox\\Publikacje\\Dydaktyka\\Nowoczesne języki programowania obiektowego II\\.idea\\modules.xml\n",
      "C:\\Users\\lukaszstrak\\Dropbox\\Publikacje\\Dydaktyka\\Nowoczesne języki programowania obiektowego II\\.idea\\Nowoczesne języki programowania obiektowego II.iml\n",
      "C:\\Users\\lukaszstrak\\Dropbox\\Publikacje\\Dydaktyka\\Nowoczesne języki programowania obiektowego II\\.idea\\workspace.xml\n",
      "C:\\Users\\lukaszstrak\\Dropbox\\Publikacje\\Dydaktyka\\Nowoczesne języki programowania obiektowego II\\.idea\\dictionaries\\lukaszstrak.xml\n",
      "C:\\Users\\lukaszstrak\\Dropbox\\Publikacje\\Dydaktyka\\Nowoczesne języki programowania obiektowego II\\.idea\\inspectionProfiles\\profiles_settings.xml\n",
      "C:\\Users\\lukaszstrak\\Dropbox\\Publikacje\\Dydaktyka\\Nowoczesne języki programowania obiektowego II\\.idea\\inspectionProfiles\\Project_Default.xml\n"
     ]
    }
   ],
   "source": [
    "from os import getcwd, walk\n",
    "from os.path import join\n",
    "\n",
    "def get_files(folder):\n",
    "    for folderName, sub_folders, files_names in walk(folder):\n",
    "        for file_name in files_names:\n",
    "            print(join(folderName, file_name))\n",
    "        for sub_folder in sub_folders:\n",
    "            get_files(join(folder, sub_folder))\n",
    "\n",
    "get_files(getcwd())"
   ]
  },
  {
   "cell_type": "markdown",
   "metadata": {
    "pycharm": {
     "name": "#%% md\n"
    }
   },
   "source": [
    "W linii 6 została użyta funkcja `join` modułu `os.path`. Służy do konkatenacji wielu folderów, które składają się na pełną ścieżkę.\n",
    "\n",
    "Poniższa lista zawiera zestaw funkcji przydatnych do obsługi plików i katalogów na poziomie systemy plików.\n",
    "\n",
    "| Nazwa funkcji | Opis | Przykład użycia |\n",
    "|-|-|-|\n",
    "| `shutil.copy` | Funkcja umożliwia kopiowanie pojedynczych plików. | `shutil.copy(full_path_src, full_path_dest)` |\n",
    "| `shutil.copytree` | Funkcja umożliwia kopiowanie całych katalogów wraz z zawartością. | `shutil.copytree(path_src, path_dest)` |\n",
    "| `shutil.move` | Funkcja umożliwia zmianę nazwy pliku oraz przenoszenie pliku do innego katalogu. | `shutil.move(path_src, path_dest)` |\n",
    "| `shutil.rmtree` | Funkcja umożliwia kasowanie katalogu wraz z zawartością. | `shutil.rmtree(path)` |\n",
    "| `os.unlink` | Funkcja umożliwia kasowanie pliku. | `shutil.unlink(path)` |\n",
    "| `os.path.splitext` | Zwraca tuple na, którą składa się nazwa pliku oraz jego rozszerzenie. W przypadku, gdy podany plik zawiera pełną ścieżkę, zostanie ona zwrócona jako część nazwy pliku. | `file_name, ext = os.path.splitext(file_name)` |\n",
    "\n",
    "\n",
    "Tworzenie bezpiecznych plików tymczasowych jest bardzo przydatne szczególnie w testach jednostkowych. W języku Python dostępny jest moduł `tempfile`, który znacznie ułatwia tworzenie tego typu plików. Funkcje `mkdtemp` i `mktemp` służą kolejno do tworzenia tymczasowego katalogu i pliku."
   ]
  },
  {
   "cell_type": "code",
   "execution_count": 19,
   "metadata": {
    "pycharm": {
     "name": "#%%\n"
    }
   },
   "outputs": [
    {
     "name": "stdout",
     "output_type": "stream",
     "text": [
      "Saving file to: C:\\Users\\LUKASZ~1\\AppData\\Local\\Temp\\tmp0pmza_f1\n",
      "Success\n"
     ]
    }
   ],
   "source": [
    "from tempfile import mkdtemp\n",
    "from shutil import rmtree\n",
    "from os.path import join\n",
    "temp_dir = mkdtemp()\n",
    "try:\n",
    "    print(f'Saving file to: {temp_dir}')\n",
    "    with open(join(temp_dir, 'file.txt'), 'w+') as f:\n",
    "        f.write('Test')\n",
    "        f.flush()\n",
    "finally:\n",
    "    rmtree(temp_dir)\n",
    "\n",
    "print('Success')"
   ]
  },
  {
   "cell_type": "markdown",
   "metadata": {
    "pycharm": {
     "name": "#%% md\n"
    }
   },
   "source": [
    "W powyższym kodzie to programista jest odpowiedzialny za zwalnianie pliku/katalogu tymczasowego. Moduł `tempfile` umożliwia tworzenie plików, które w momencie opuszczenia bloku kodu, zostaną zwolnione automatycznie."
   ]
  },
  {
   "cell_type": "code",
   "execution_count": 21,
   "metadata": {
    "pycharm": {
     "name": "#%%\n"
    }
   },
   "outputs": [
    {
     "name": "stdout",
     "output_type": "stream",
     "text": [
      "Fle C:\\Users\\LUKASZ~1\\AppData\\Local\\Temp\\tmp82e50cic exists: True\n",
      "Fle C:\\Users\\LUKASZ~1\\AppData\\Local\\Temp\\tmp82e50cic exists: False\n"
     ]
    }
   ],
   "source": [
    "from tempfile import NamedTemporaryFile\n",
    "from os.path import exists\n",
    "\n",
    "file_name = None\n",
    "with NamedTemporaryFile('w+') as f:\n",
    "    f.write('test')\n",
    "    file_name = f.name\n",
    "    print(f'Fle {file_name} exists: {exists(file_name)}')\n",
    "\n",
    "print(f'Fle {file_name} exists: {exists(file_name)}')"
   ]
  },
  {
   "cell_type": "markdown",
   "metadata": {
    "pycharm": {
     "name": "#%% md\n"
    }
   },
   "source": [
    "Dość istotny jest tutaj fakt, że gdy plik zostanie zamknięty funkcją `f.close()`, zostanie skasowany. W przypadku katalogu można użyć klasy `tempfile.TemporaryDirectory`, której schemat użycia jest taki sam.\n",
    "\n",
    "## Obsługa formatów plików\n",
    "\n",
    "### Format `Xlsx`\n",
    "\n",
    "Moduł `openpyxl` pozwala na obsługę formatu plików `xlsx`. Z tego samego modułu korzysta również bardzo popularny moduł `pandas`, który umożliwia unifikację przetwarzania danych bez względu na format źródłowy. Moduł `openpyxl` nie znajduje się na liście modułów standardowych i należy go doinstalować za pomocą polecenia `pip install openpyxl`."
   ]
  },
  {
   "cell_type": "code",
   "execution_count": 42,
   "metadata": {
    "pycharm": {
     "name": "#%%\n"
    }
   },
   "outputs": [
    {
     "name": "stdout",
     "output_type": "stream",
     "text": [
      "Using file: C:\\Users\\LUKASZ~1\\AppData\\Local\\Temp\\tmpuz_wc7rt.xlsx\n",
      "Sheets: ['Sheet', 'test']\n",
      "Filled rows: 3\n",
      "Filled columns: 2\n",
      "Cell: A1: 10\n",
      "Cell: A2: 20\n",
      "Cell: A3: 30\n",
      "Cell: B1: 11\n",
      "Cell: B2: 12\n",
      "Cell: B3: 13\n"
     ]
    }
   ],
   "source": [
    "from openpyxl import Workbook, load_workbook\n",
    "from typing import Dict\n",
    "from tempfile import mktemp\n",
    "from itertools import product\n",
    "from os import unlink\n",
    "\n",
    "def describe(file_name, sheet_name):\n",
    "    wb = load_workbook(file_name)\n",
    "    print(f'Sheets: {wb.sheetnames}')\n",
    "    print(f'Filled rows: {wb[sheet_name].max_row}')\n",
    "    print(f'Filled columns: {wb[sheet_name].max_column}')\n",
    "    for cell in product(['A', 'B'], ['1', '2', '3']):\n",
    "        cell_s = \"\".join(cell)\n",
    "        print(f'Cell: {cell_s}: {wb[sheet_name][cell_s].value}')\n",
    "    # można też użyć\n",
    "    # for coll_obj in list(wb[sheet_name].columns)[0]:\n",
    "    #     print(f'Cell: {coll_obj.value}')\n",
    "    # lub\n",
    "    # wb[sheet_name].cell(row=1, column=1).value\n",
    "\n",
    "def create(data: Dict[str, int], file_name, sheet_name):\n",
    "    wb = Workbook()\n",
    "    sheet = wb.create_sheet(sheet_name)\n",
    "    for cell_key, cell_value in data.items():\n",
    "        sheet[cell_key] = cell_value\n",
    "    wb.save(file_name)\n",
    "\n",
    "file_name = mktemp(suffix='.xlsx')\n",
    "\n",
    "print(f'Using file: {file_name}')\n",
    "\n",
    "try:\n",
    "    data = { 'A1': 10, 'A2': 20, 'A3': 30, 'B1': 11, 'B2': 12, 'B3': 13 }\n",
    "    create(data, file_name, 'test')\n",
    "    describe(file_name, 'test')\n",
    "\n",
    "finally:\n",
    "    unlink(file_name)"
   ]
  },
  {
   "cell_type": "markdown",
   "metadata": {
    "pycharm": {
     "name": "#%% md\n"
    }
   },
   "source": [
    "Przypisując odpowiedniej komórce formułę w postaci łańcucha znaków tj. `sheet['A4'] = '=SUM(A1:A3)'` tworzymy formułę wyliczaną automatycznie. W module `openpyxl.utils` można znaleźć między innymi dwie funkcje konwertujące liczby na litery i odwrotnie, co ułatwia iterowanie między komórkami."
   ]
  },
  {
   "cell_type": "code",
   "execution_count": 36,
   "metadata": {
    "pycharm": {
     "name": "#%%\n"
    }
   },
   "outputs": [
    {
     "name": "stdout",
     "output_type": "stream",
     "text": [
      "Letters:\n",
      "A,B,C,D,E,F,G,H,I,J,K,L,M,N,O,P,Q,R,S,T,U,V,W,X,Y,Z,AA,AB,AC,AD,AE,AF,AG,AH,AI,AJ,AK,AL,AM,AN,AO,AP,AQ,AR,AS,AT,AU,AV,AW,AX,AY,AZ,BA,BB,BC,BD,BE,BF,BG,BH,BI,BJ,BK,BL,BM,BN,BO,BP,BQ,BR,BS,BT,BU,BV,BW,BX,BY,BZ,CA,CB,CC,CD,CE,CF,CG,CH,CI,CJ,CK,CL,CM,CN,CO,CP,CQ,CR,CS,CT,CU\n",
      "1\n",
      "28\n",
      "731\n"
     ]
    }
   ],
   "source": [
    "from openpyxl.utils import get_column_letter, column_index_from_string\n",
    "\n",
    "print('Letters:')\n",
    "print(\",\".join([get_column_letter(i) for i in range(1, 100)]))\n",
    "print(column_index_from_string('A'))\n",
    "print(column_index_from_string('AB'))\n",
    "print(column_index_from_string('ABC'))"
   ]
  },
  {
   "cell_type": "markdown",
   "metadata": {
    "pycharm": {
     "name": "#%% md\n"
    }
   },
   "source": [
    "### Format _JSON_\n",
    "\n",
    "Wczytywanie i zapisywanie formatu _JSON_ polega głównie na operowaniu na słownikach. Funkcja `loads` zwraca słownik na podstawie przekazanego łańcucha znaków w formacie _JSON_. Z kolei funkcja `dumps` zapisuje słownik w tym formacie. Można również użyć funkcji `load` i `dump`, która oczekuje strumienia do pliku zapisanego w formacie _JSON_ (otwarcie strumienia następuje w funkcji `open`)."
   ]
  },
  {
   "cell_type": "code",
   "execution_count": 43,
   "metadata": {
    "pycharm": {
     "name": "#%%\n"
    }
   },
   "outputs": [
    {
     "name": "stdout",
     "output_type": "stream",
     "text": [
      "File name: test\n",
      "Is zipped: False\n",
      "Dumped: {\"file_name\": \"test\", \"is_zipped\": false}\n"
     ]
    }
   ],
   "source": [
    "from json import loads, dumps\n",
    "\n",
    "json_dict = loads('{ \"file_name\": \"test\", \"is_zipped\": false }')\n",
    "print(f'File name: {json_dict[\"file_name\"]}')\n",
    "print(f'Is zipped: {json_dict[\"is_zipped\"]}')\n",
    "print(f'Dumped: {dumps(json_dict)}')"
   ]
  },
  {
   "cell_type": "markdown",
   "metadata": {
    "pycharm": {
     "name": "#%% md\n"
    }
   },
   "source": [
    "Warto w tym miejscu należy zwrócić uwagę na konwersję typów. Wartość typu `bool` w formacie _JSON_ została skonwertowana na odpowiednik w języku Python.\n",
    "\n",
    "### Format _Parquet_\n",
    "\n",
    "Format `Parquet` jest używany m. in. w _Apache Spark_ (_PySpark_) czy module `pandas` i jest jednym z podstawowych formatów w ekosystemie firmy _Apache_. Pod względem struktury jest to format binarny, kolumnowy z silnym typowaniem danych. W bibliotece standardowej nie ma obsługi tego formatu, jednak znajduje się wiele implementacji w `pip`. Przykłady utylizują bibliotekę `fastparquet`, a do tworzenia bibliotekę `pandas`."
   ]
  },
  {
   "cell_type": "code",
   "execution_count": 70,
   "metadata": {
    "pycharm": {
     "name": "#%%\n"
    }
   },
   "outputs": [
    {
     "name": "stdout",
     "output_type": "stream",
     "text": [
      "Using data: {'A': [1, 2, 3, 4], 'B': [6, 7, 8, 9]}\n",
      "Readed columns: ['A', 'B']\n",
      "File info: {'name': 'C:/Users/LUKASZ~1/AppData/Local/Temp/tmpkwxu34tp', 'columns': ['A', 'B'], 'partitions': [], 'rows': 4}\n",
      "Values: 1, 6\n",
      "Values: 2, 7\n",
      "Values: 3, 8\n",
      "Values: 4, 9\n"
     ]
    }
   ],
   "source": [
    "import pandas as pd\n",
    "from tempfile import mktemp\n",
    "from os import unlink\n",
    "from fastparquet import ParquetFile\n",
    "\n",
    "data = { 'A': list(range(1,5)), 'B': list(range(6,10)) }\n",
    "\n",
    "print(f'Using data: {data}')\n",
    "\n",
    "df = pd.DataFrame.from_dict(data)\n",
    "\n",
    "temp_file = mktemp()\n",
    "\n",
    "try:\n",
    "    df.to_parquet(temp_file, compression='GZIP')\n",
    "    pf = ParquetFile(temp_file)\n",
    "    print(f'Readed columns: {pf.columns}')\n",
    "    print(f'File info: {pf.info}')\n",
    "    df = pf.to_pandas()\n",
    "    for value_a, value_b in df.itertuples(index=False):\n",
    "        print(f'Values: {value_a}, {value_b}')\n",
    "\n",
    "finally:\n",
    "    unlink(temp_file)"
   ]
  },
  {
   "cell_type": "markdown",
   "metadata": {
    "pycharm": {
     "name": "#%% md\n"
    }
   },
   "source": [
    "Format `Parquet` jest szczególnie przydatny, gdy przetwarzamy duże zbiory danych i wynik należy zapisać, gdyż kolejny krok przetwarzania może zmodyfikować aktualnie przeprocesowane dane (_check point_).\n",
    "\n",
    "## Baza danych _sqlite_ i podstawy `SqlAlchemy`\n",
    "\n",
    "Mapowanie bazy danych na klasy jest bardzo przydatne w większych projektach. Głównie za sprawą podpowiadania składni oraz teoretycznej niezależności działania programu od warstwy przechowywania danych (baza danych). Biblioteka `SqlAlchemy` stanowi warstwę pośrednią miedzy fizycznymi operacjami na konkretnej bazie danych oraz logicznych operacji jak odczytywanie czy modyfikowanie danych. Co więcej, model danych to klasa w języku Python, co pozwala przy użyciu jednej funkcji założenie całej bazy danych z indeksami, tabelami i sekwencjami. Baza danych _sqlite_ jest wspierana w języku Python poprzez moduł `sqlite3` znajdujący się w bibliotece standardowej. Poniższy listing przedstawia prosty model danych wraz z przykładowym użyciem biblioteki `SqlAlchemy`."
   ]
  },
  {
   "cell_type": "code",
   "execution_count": 96,
   "metadata": {
    "pycharm": {
     "name": "#%%\n"
    }
   },
   "outputs": [
    {
     "name": "stdout",
     "output_type": "stream",
     "text": [
      "Using C:\\Users\\LUKASZ~1\\AppData\\Local\\Temp\\tmpkiy3tjw1.sqlite\n",
      "Calling populatate\n",
      "Calling query\n",
      "Available products\n",
      "1\tLaptop Sony\t10\n",
      "2\tLaptop Lenovo\t1\n",
      "Not available products\n",
      "3\tLaptop Lenovo\t0\n"
     ]
    }
   ],
   "source": [
    "from sqlalchemy import create_engine, Column, String, Integer, Boolean\n",
    "from sqlalchemy.orm import sessionmaker\n",
    "from sqlalchemy.ext.declarative import declarative_base\n",
    "from contextlib import contextmanager\n",
    "from tempfile import mktemp\n",
    "from platform import system\n",
    "\n",
    "temp_db = mktemp(suffix='.sqlite')\n",
    "\n",
    "print(f'Using {temp_db}')\n",
    "\n",
    "conn_uri_handler = {\n",
    "    'Windows': f'sqlite:///{temp_db}',\n",
    "    'Darwin': f'sqlite:////{temp_db}',\n",
    "    'Linux': f'sqlite:////{temp_db}',\n",
    "    'Java': f'sqlite:////{temp_db}'\n",
    "}\n",
    "\n",
    "# w Windows dodaje dodatkowo /\n",
    "engine = create_engine(conn_uri_handler[system()])\n",
    "\n",
    "Base = declarative_base(bind=engine)\n",
    "\n",
    "class Product(Base):\n",
    "    __tablename__ = 'products'\n",
    "    id=Column(Integer, primary_key=True)\n",
    "    title=Column('title', String(32))\n",
    "    in_stock=Column('in_stock', Boolean)\n",
    "    quantity=Column('quantity', Integer)\n",
    "\n",
    "\n",
    "Base.metadata.create_all()\n",
    "\n",
    "Session = sessionmaker(bind=engine)\n",
    "\n",
    "@contextmanager\n",
    "def create_session():\n",
    "    session = Session()\n",
    "    try:\n",
    "        yield session\n",
    "        session.commit()\n",
    "    except Exception:\n",
    "        session.rollback()\n",
    "        raise\n",
    "    finally:\n",
    "        session.close()\n",
    "\n",
    "def provide_session(func):\n",
    "    def wrapper(*args, **kwargs):\n",
    "        print(f'Calling {func.__name__}')\n",
    "        try:\n",
    "            with create_session() as session:\n",
    "                args = (*args, session) if args else (session,) # dodanie parametru session do listy\n",
    "                return func(*args, **kwargs)\n",
    "        except Exception as e:\n",
    "            print(f'Error found: {e}')\n",
    "\n",
    "        return None\n",
    "\n",
    "    return wrapper\n",
    "\n",
    "@provide_session\n",
    "def populatate(session):\n",
    "    session.add(Product(id=1, title='Laptop Sony', in_stock=True, quantity=10))\n",
    "    session.add(Product(id=2, title='Laptop Lenovo', in_stock=True, quantity=1))\n",
    "    session.add(Product(id=3, title='Laptop Lenovo', in_stock=False, quantity=0))\n",
    "\n",
    "\n",
    "@provide_session\n",
    "def query(session):\n",
    "    available_products = session.query(Product).filter(Product.in_stock == True).all()\n",
    "    print('Available products')\n",
    "    for product in available_products:\n",
    "        print(f'{product.id}\\t{product.title}\\t{product.quantity}')\n",
    "\n",
    "    available_products = session.query(Product).filter(Product.in_stock == False).all()\n",
    "    print('Not available products')\n",
    "    for product in available_products:\n",
    "        print(f'{product.id}\\t{product.title}\\t{product.quantity}')\n",
    "\n",
    "\n",
    "populatate()\n",
    "query()"
   ]
  },
  {
   "cell_type": "markdown",
   "metadata": {
    "pycharm": {
     "name": "#%% md\n"
    }
   },
   "source": [
    "W zależności od tego co zostanie przekazane do funkcji `create_engine`, `SqlAlchemy` utworzy takie połączenie do bazy danych i skonwertuje typy języka Python na odpowiadające im typy w konkretnej bazie danych. Użyta tabela jest raczej trywialna, `SqlAlchemy` daje znacznie więcej możliwości np. tworzenia relacji (jeden do jeden, jeden do wielu, wiele do wielu), ograniczeń (_constraint_), wywoływania funkcji wbudowanych oraz tworzenia własnych definicji funkcji i typów, które zostaną przetransformowane do konkretnego dialektu (składnia danego języka zapytań obsługiwanego w bazie danych np. `t-sql` - _Microsoft SQL Server, 'pl/sql' - Oracle). W powyższym przykładzie, w funkcji `create_session` tworzona jest sesja do bazy danych. Użyty mechanizm pozwala na automatyczny `commit` i zwalnianie połączenia i przekazywanie go do puli otwartych połączeń. Dekorator `provide_session` dodaje parametr `session` do dekorowanej funkcji. Powyższy kod nie jest przeznaczony dla wielu wątków.\n",
    "\n",
    "## Serializacja i deserializacja z modułem `pickle`\n",
    "\n",
    "Moduł `pickle` umożliwia zapisywanie na dysk istniejących w pamięci instancji typów, które po ponownym uruchomieniu programu mogą być odczytywane z dysku. Nie każdy typ jest obsługiwany, ale kolekcje takie jak lista, słownik czy nazwana tupla są obsługiwane. Rozszerzeniem modułu `pickle` są moduły `dill` i `cpickle`, które obsługują większą liczbę typów."
   ]
  },
  {
   "cell_type": "code",
   "execution_count": 76,
   "metadata": {
    "pycharm": {
     "name": "#%%\n"
    }
   },
   "outputs": [
    {
     "name": "stdout",
     "output_type": "stream",
     "text": [
      "Before: ['A', 'B', 1, 2, True, False]\n",
      "After: ['A', 'B', 1, 2, True, False]\n"
     ]
    }
   ],
   "source": [
    "from pickle import dump, load\n",
    "from tempfile import mktemp\n",
    "from os import unlink\n",
    "\n",
    "temp_file = mktemp()\n",
    "\n",
    "try:\n",
    "    collection = ['A', 'B', 1, 2, True, False]\n",
    "    print(f'Before: {collection}')\n",
    "    with open(temp_file, 'wb') as f:\n",
    "        dump(collection, f)\n",
    "        f.flush()\n",
    "\n",
    "    with open(temp_file, 'rb') as f:\n",
    "        temp_col = load(f)\n",
    "        print(f'After: {temp_col}')\n",
    "finally:\n",
    "    unlink(temp_file)\n"
   ]
  },
  {
   "cell_type": "markdown",
   "metadata": {
    "pycharm": {
     "name": "#%% md\n"
    }
   },
   "source": [
    "## Pamięć podręczna i moduł _functools_\n",
    "\n",
    "Twórcy języka Python wbudowali w moduły standardowe dekoratory, które umożliwiają tworzenie pamięci podręcznej (_cache_).\n",
    "Dostępnych jest parę metod, niemniej jednak schemat użycia jest bardzo podobny."
   ]
  },
  {
   "cell_type": "code",
   "execution_count": 8,
   "metadata": {
    "pycharm": {
     "name": "#%%\n"
    }
   },
   "outputs": [
    {
     "name": "stdout",
     "output_type": "stream",
     "text": [
      "<functools.cached_property object at 0x00000273FD824370>\n",
      "20\n"
     ]
    }
   ],
   "source": [
    "from functools import lru_cache, cached_property\n",
    "\n",
    "\n",
    "@lru_cache(maxsize=100)\n",
    "def func_lru_cached(a: int, b: int):\n",
    "    return a + b\n",
    "\n",
    "glob_a, glob_b = 10,10\n",
    "\n",
    "@cached_property\n",
    "def sum_ab():\n",
    "    return glob_a + glob_b\n",
    "\n",
    "print(sum_ab)\n",
    "print(func_lru_cached(glob_a, glob_b))"
   ]
  },
  {
   "cell_type": "markdown",
   "metadata": {
    "pycharm": {
     "name": "#%% md\n"
    }
   },
   "source": [
    "_lru_ oznacza _Least Recently Used_, co oznacza, że wywołania z parametrami rzadko używanymi będą usuwane z pamięci podręcznej w momencie kiedy tej pamięci podręcznej będzie brakować (parametr `maxsize`). Dekorator `cached_property` używany jest głównie do właściwości przechowywanych w klasach, które są przedmiotem kolejnego laboratorium.\n",
    "\n",
    "## Zadania do wykonania\n",
    "\n",
    "1. Porównaj zapisywanie i odczytywanie kolekcji (100, 10000, 100 000 elementów) za pomocą trzech technik: modułu `pickle`, `parquet` i `xlsx`.\n",
    "\n",
    "2. Zbadaj przyspieszenie związane z zastosowaniem pamięci podręcznej na wybranych przykładzie funkcji rekurencyjnej (np. ciągu _Fibonacciego_.\n",
    "\n",
    "3. Napisz program tworzący bazę danych z interfejsem konsolowym. Wymagane są następujące operacje, dodanie wiersza, usunięcie wiersza, zmiana pola wiersza, wyświetlenie opcji. Menu można zorganizować jako odczytywanie parametrów zwróconych przez funkcję `input` lub z pomocą komend (łatwiejszy sposób)."
   ]
  },
  {
   "cell_type": "code",
   "execution_count": null,
   "metadata": {},
   "outputs": [],
   "source": [
    "import os\n",
    "import time\n",
    "from contextlib import contextmanager\n",
    "from functools import lru_cache\n",
    "from os import unlink\n",
    "from pickle import dump, load\n",
    "from platform import system\n",
    "from tempfile import mktemp\n",
    "from typing import Dict\n",
    "\n",
    "import pandas as pd\n",
    "from fastparquet import ParquetFile\n",
    "from openpyxl import Workbook, load_workbook\n",
    "from sqlalchemy import create_engine, Column, String, Integer\n",
    "from sqlalchemy.ext.declarative import declarative_base\n",
    "from sqlalchemy.orm import sessionmaker\n",
    "\n",
    "# ZADANIE 1\n",
    "\n",
    "col_100 = []\n",
    "col_1000 = []\n",
    "col_100000 = []\n",
    "\n",
    "for i in range(0, 100):\n",
    "    col_100.append(i)\n",
    "\n",
    "for i in range(0, 1000):\n",
    "    col_1000.append(i)\n",
    "\n",
    "for i in range(0, 100000):\n",
    "    col_100000.append(i)\n",
    "\n",
    "temp_file = mktemp()\n",
    "\n",
    "\n",
    "def zad1_pickle(coll):\n",
    "    try:\n",
    "        with open(temp_file, 'wb') as f:\n",
    "            print(f'For {len(coll)} collection')\n",
    "            pickle_time_save_start = time.time()\n",
    "            dump(coll, f)\n",
    "            f.flush()\n",
    "            pickle_time_save_end = time.time()\n",
    "            print(f'Pickle Time Save: {pickle_time_save_end - pickle_time_save_start}')\n",
    "\n",
    "        with open(temp_file, 'rb') as f:\n",
    "            pickle_time_load_start = time.time()\n",
    "            temp_col = load(f)\n",
    "            pickle_time_load_end = time.time()\n",
    "            print(f'Pickle Time Load: {pickle_time_load_end - pickle_time_load_start}')\n",
    "    finally:\n",
    "        unlink(temp_file)\n",
    "\n",
    "\n",
    "def zad1_parquet(value):\n",
    "    data = {'A': range(0, value)}\n",
    "\n",
    "    df = pd.DataFrame.from_dict(data)\n",
    "\n",
    "    temp_file = mktemp()\n",
    "\n",
    "    try:\n",
    "        parquet_time_save_start = time.time()\n",
    "        df.to_parquet(temp_file, compression='GZIP')\n",
    "        parquet_time_save_end = time.time()\n",
    "        print(f'Parquet Time Save: {parquet_time_save_end - parquet_time_save_start}')\n",
    "\n",
    "        paruqet_time_load_start = time.time()\n",
    "        pf = ParquetFile(temp_file)\n",
    "        parquet_time_load_end = time.time()\n",
    "        print(f'Parquet Time Load: {parquet_time_load_end - paruqet_time_load_start}')\n",
    "\n",
    "\n",
    "    finally:\n",
    "        unlink(temp_file)\n",
    "\n",
    "\n",
    "def describe(file_name, sheet_name):\n",
    "    xlsx_time_load_start = time.time()\n",
    "    wb = load_workbook(file_name)\n",
    "    xlsx_time_load_end = time.time()\n",
    "    print(f'Xlsx Time Load: {xlsx_time_load_end - xlsx_time_load_start}')\n",
    "    print(f'Filled rows: {wb[sheet_name].max_row}')\n",
    "    print(f'Filled columns: {wb[sheet_name].max_column}')\n",
    "\n",
    "\n",
    "def create(data: Dict[str, int], file_name, sheet_name):\n",
    "    wb = Workbook()\n",
    "    sheet = wb.create_sheet(sheet_name)\n",
    "    for cell_key, cell_value in data.items():\n",
    "        sheet[cell_key] = cell_value\n",
    "    xlsx_time_save_start = time.time()\n",
    "    wb.save(file_name)\n",
    "    xlsx_time_save_end = time.time()\n",
    "    print(f'Xlsx Time Save: {xlsx_time_save_end - xlsx_time_save_start}')\n",
    "\n",
    "\n",
    "file_name = mktemp(suffix='.xlsx')\n",
    "\n",
    "print(f'Using file: {file_name}')\n",
    "\n",
    "\n",
    "def zadanie1_xlsx(value):\n",
    "    data = {}\n",
    "    for i in range(1, value + 1):\n",
    "        x = {f'A{i}': i}\n",
    "        data.update(x)\n",
    "    try:\n",
    "        create(data, file_name, 'test')\n",
    "        describe(file_name, 'test')\n",
    "\n",
    "    finally:\n",
    "        unlink(file_name)\n",
    "\n",
    "\n",
    "zad1_pickle(col_100)\n",
    "zad1_pickle(col_1000)\n",
    "zad1_pickle(col_100000)\n",
    "\n",
    "zad1_parquet(100)\n",
    "zad1_parquet(1000)\n",
    "zad1_parquet(100000)\n",
    "\n",
    "zadanie1_xlsx(100)\n",
    "zadanie1_xlsx(1000)\n",
    "zadanie1_xlsx(100000)\n",
    "\n",
    "# ZADANIE 2\n",
    "fibonacci_values = {}\n",
    "\n",
    "\n",
    "def fibonacci(n):\n",
    "    if n in fibonacci_values:\n",
    "        return fibonacci_values[n]\n",
    "\n",
    "    if n == 1:\n",
    "        value = 1\n",
    "    elif n == 2:\n",
    "        value = 1\n",
    "    elif n > 2:\n",
    "        value = fibonacci(n - 1) + fibonacci(n - 2)\n",
    "\n",
    "    fibonacci_values[n] = value\n",
    "\n",
    "    return value\n",
    "\n",
    "\n",
    "fibonacci_time_start = time.time()\n",
    "for n in range(1, 1000):\n",
    "    print(n, \":\", fibonacci(n))\n",
    "fibonacci_time_end = time.time()\n",
    "print(f'Fibonacci without cache: {fibonacci_time_end - fibonacci_time_start}')\n",
    "\n",
    "\n",
    "@lru_cache(maxsize=1000)\n",
    "def fibonacciCache(n):\n",
    "    if n == 1:\n",
    "        return 1\n",
    "    elif n == 2:\n",
    "        return 1\n",
    "    elif n > 2:\n",
    "        return fibonacciCache(n - 1) + fibonacciCache(n - 2)\n",
    "\n",
    "\n",
    "fibonacci_cache_time_start = time.time()\n",
    "for n in range(1, 1000):\n",
    "    print(n, \":\", fibonacciCache(n))\n",
    "fibonacci_cache_time_end = time.time()\n",
    "print(f'Fibonacci with cache: {fibonacci_cache_time_end - fibonacci_cache_time_start}')\n",
    "\n",
    "\n",
    "# ZADANIE 3\n",
    "temp_db = mktemp(suffix='.sqlite')\n",
    "\n",
    "print(f'Using {temp_db}')\n",
    "\n",
    "conn_uri_handler = {\n",
    "    'Windows': f'sqlite:///{temp_db}',\n",
    "    'Darwin': f'sqlite:////{temp_db}',\n",
    "    'Linux': f'sqlite:////{temp_db}',\n",
    "    'Java': f'sqlite:////{temp_db}'\n",
    "}\n",
    "\n",
    "# w Windows dodaje dodatkowo /\n",
    "engine = create_engine(conn_uri_handler[system()])\n",
    "\n",
    "Base = declarative_base(bind=engine)\n",
    "\n",
    "\n",
    "class Product(Base):\n",
    "    __tablename__ = 'products'\n",
    "    id = Column(Integer, primary_key=True)\n",
    "    title = Column('title', String(32))\n",
    "\n",
    "\n",
    "Base.metadata.create_all()\n",
    "\n",
    "Session = sessionmaker(bind=engine)\n",
    "\n",
    "\n",
    "@contextmanager\n",
    "def create_session():\n",
    "    session = Session()\n",
    "    try:\n",
    "        yield session\n",
    "        session.commit()\n",
    "    except Exception:\n",
    "        session.rollback()\n",
    "        raise\n",
    "    finally:\n",
    "        session.close()\n",
    "\n",
    "\n",
    "def provide_session(func):\n",
    "    def wrapper(*args, **kwargs):\n",
    "        print(f'Calling {func.__name__}')\n",
    "        try:\n",
    "            with create_session() as session:\n",
    "                args = (*args, session) if args else (session,)  # dodanie parametru session do listy\n",
    "                return func(*args, **kwargs)\n",
    "        except Exception as e:\n",
    "            print(f'Error found: {e}')\n",
    "\n",
    "        return None\n",
    "\n",
    "    return wrapper\n",
    "\n",
    "\n",
    "@provide_session\n",
    "def populatate(session):\n",
    "    session.add(Product(id=1, title='Laptop Sony'))\n",
    "    session.add(Product(id=2, title='Laptop Lenovo'))\n",
    "    session.add(Product(id=3, title='Laptop Lenovo'))\n",
    "\n",
    "\n",
    "@provide_session\n",
    "def query(session):\n",
    "    products = session.query(Product)\n",
    "    for product in products:\n",
    "        print(f'{product.id}\\t{product.title}')\n",
    "\n",
    "\n",
    "@provide_session\n",
    "def add_data(id, name, session):\n",
    "    session.add(Product(id=id, title=name))\n",
    "\n",
    "\n",
    "@provide_session\n",
    "def delete(id, session):\n",
    "    session.query(Product).filter(Product.id == id).delete()\n",
    "\n",
    "\n",
    "@provide_session\n",
    "def rename(id, name, session):\n",
    "    product = session.query(Product).filter(Product.id == id).first()\n",
    "    product.title = name\n",
    "    session.commit()\n",
    "\n",
    "\n",
    "populatate()\n",
    "\n",
    "\n",
    "def displayMainMenu():\n",
    "    print('— — — — MENU — — — -')\n",
    "    print('1. Dodaj laptop')\n",
    "    print('2. Usuń laptop')\n",
    "    print('3. Zmiana nazwy laptopa')\n",
    "    print('4. Wyjdz')\n",
    "    print('5. Wyswietl dane')\n",
    "    print('— — — — — — — — — —')\n",
    "\n",
    "\n",
    "def exit():\n",
    "    n = int(input('Press 4 to exit :'))\n",
    "    if n == 4:\n",
    "        os.system('cls')  # For Windows\n",
    "        run()\n",
    "    else:\n",
    "        print('Blad')\n",
    "        exit()\n",
    "\n",
    "\n",
    "def run():\n",
    "    displayMainMenu()\n",
    "    n = int(input('Wybierz opcje: '))\n",
    "    if n == 1:\n",
    "        os.system('cls')\n",
    "        id = int(input('ID: \\n'))\n",
    "        name = input('Nazwa: \\n')\n",
    "        add_data(id, name)\n",
    "        run()\n",
    "\n",
    "    elif n == 2:\n",
    "        os.system('cls')\n",
    "        id = int(input('ID: \\n'))\n",
    "        delete(id)\n",
    "        run()\n",
    "\n",
    "    elif n == 3:\n",
    "        os.system('cls')\n",
    "        id = int(input('ID: \\n'))\n",
    "        name = input('Nazwa: \\n')\n",
    "        rename(id, name)\n",
    "        run()\n",
    "\n",
    "    elif n == 4:\n",
    "        os.system('cls')\n",
    "        print('Koniec')\n",
    "\n",
    "    elif n == 5:\n",
    "        os.system('cls')\n",
    "        query()\n",
    "        run()\n",
    "\n",
    "    else:\n",
    "        os.system('cls')\n",
    "        run()\n",
    "\n",
    "\n",
    "if __name__ == '__main__':\n",
    "    run()\n",
    "\n"
   ]
  }
 ],
 "metadata": {
  "kernelspec": {
   "display_name": "Python 3",
   "language": "python",
   "name": "python3"
  },
  "language_info": {
   "codemirror_mode": {
    "name": "ipython",
    "version": 3
   },
   "file_extension": ".py",
   "mimetype": "text/x-python",
   "name": "python",
   "nbconvert_exporter": "python",
   "pygments_lexer": "ipython3",
   "version": "3.9.0"
  }
 },
 "nbformat": 4,
 "nbformat_minor": 1
}
