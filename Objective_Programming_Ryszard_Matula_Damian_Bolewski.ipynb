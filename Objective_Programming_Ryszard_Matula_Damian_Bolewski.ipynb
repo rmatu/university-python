{
 "cells": [
  {
   "cell_type": "markdown",
   "metadata": {
    "collapsed": true,
    "pycharm": {
     "name": "#%% md\n"
    }
   },
   "source": [
    "# Programowanie obiektowe\n",
    "\n",
    "W paradygmacie programowania obiektowego, klasy stanowią najważniejszy budulec programów. Niemniej jednak w języku Python istnieje wiele typów i technik, które pozwalają ograniczyć ich użycie. W językach programowania takich jak Java czy C#, klasy używane są zarówno jako kontenery do danych jak i typowe obiekty, które są wyspecjalizowane do konkretnych zadań. W języku Python jako kontenerów można użyć typu `namedtuple` lub `dataclass`. Nową techniką unikalną dla języka Python, która nie występuje w innych językach programowania jest tzw. _mixin_, czyli wstrzykiwanie pojedynczych funkcjonalności i użycie dziedziczenia jako kompozycji. Przykładem może być tutaj logowanie błędów. Jest to dość oczywista funkcjonalność jednak może być realizowana na wiele sposób np. logowanie na konsole, do pliku, usługi ElasticSearch czy S3 (w postaci plików).\n",
    "\n",
    "## Definiowanie klas\n",
    "\n",
    "Do definicji klasy należy użyć słowa kluczowego `class`, a następnie przekazać jej identyfikator typu. Opcjonalne dziedziczenie przekazuje się za pomocą nawiasu, zaraz za identyfikatorem. Poniżej znajduje się przykładowa deklaracja klasy."
   ]
  },
  {
   "cell_type": "code",
   "execution_count": 2,
   "metadata": {
    "pycharm": {
     "name": "#%%\n"
    }
   },
   "outputs": [
    {
     "data": {
      "text/plain": [
       "True"
      ]
     },
     "execution_count": 2,
     "metadata": {},
     "output_type": "execute_result"
    }
   ],
   "source": [
    "class Book:\n",
    "    isbn_field: str = 'isbn'\n",
    "\n",
    "    def __init__(self, isbn: str):\n",
    "        self.isbn = isbn\n",
    "\n",
    "    def validate(self) -> bool:\n",
    "        return len(self.isbn) > 0\n",
    "\n",
    "book = Book('2211-1212')\n",
    "book.validate()"
   ]
  },
  {
   "cell_type": "markdown",
   "metadata": {
    "pycharm": {
     "name": "#%% md\n"
    }
   },
   "source": [
    "Dość istotny jest tutaj brak modyfikatorów dostępu znanych z innych języków programowania. Domyślnie w języku Python wszystko jest dostępne jako publiczne. Jedynym ograniczeniem jest stosowanie podkreślenia przed nazwą funkcji lub zmiennej, mający symulować pola prywatne. Niemniej jednak jest to bardziej notacja niż rzeczywiste ograniczenia na poziomie kompilacji. Pole `isbn_field` jest statyczne i odwołać się do niego można bez inicjalizacji klasy (`Book.isbn_field`). Konstruktor `__init__` tworzy zmienne dostępne w trakcie działania programu i użycia klasy. Nowością w stosunku do innych języków programowania jest słowo `self` odwołujące się do bieżącej instancji klasy. Funkcja `validate` może być jedynie wywołana po utworzeniu instancji klasy. W tworzeniu instancji klasy nie stosuje się słowa kluczowego `new`.\n",
    "\n",
    "## Dziedziczenie\n",
    "\n",
    "W języku Python dziedziczenie jest wielokrotne tzn. klasa może dziedziczyć po wielu klasach na raz. Dodatkowo priorytet  dziedziczenia jest od prawej do lewej, co ma szczególne znaczenie w momencie, gdy więcej niż jedna klasa zawiera tą samą nazwę funkcji. Kolejny przykład przedstawia taki właśnie przypadek."
   ]
  },
  {
   "cell_type": "code",
   "execution_count": 1,
   "metadata": {
    "pycharm": {
     "name": "#%%\n"
    }
   },
   "outputs": [
    {
     "name": "stdout",
     "output_type": "stream",
     "text": [
      "Class A\n"
     ]
    }
   ],
   "source": [
    "class A:\n",
    "    def test(self):\n",
    "        print('Class A')\n",
    "\n",
    "class B:\n",
    "    def test(self):\n",
    "        print('Class B')\n",
    "\n",
    "class C (A, B):\n",
    "    def print(self):\n",
    "        self.test()\n",
    "\n",
    "\n",
    "c = C()\n",
    "c.print()"
   ]
  },
  {
   "cell_type": "markdown",
   "metadata": {},
   "source": [
    "W przypadku, gdyby na liście dziedziczenia, klasa `B` była przed `A`, wtedy funkcja klasy `B` została by użyta przy wywołaniu. Technika ta ma za zadanie rozwiązanie problemu diamentu (_The diamond problem_ w C++), który polega na tym, że kompilator nie jest w stanie określić, której funkcji klasy pochodnej ma użyć w trakcie wywołania. Dzieje się tak, gdy obie funkcje implementują abstrakcyjną klasę, a pewna klasa szczegółowa dziedziczy z obu z nich. Wywołanie konstruktora klasy bazowej następuje w trakcie wywołania funkcji `super().__init__()` lub poprzez precyzyjniejsze wywołanie `BaseClass.__init__()`, gdzie `BaseClass` jest typem bazowym."
   ]
  },
  {
   "cell_type": "code",
   "execution_count": 5,
   "metadata": {
    "pycharm": {
     "name": "#%%\n"
    }
   },
   "outputs": [
    {
     "name": "stdout",
     "output_type": "stream",
     "text": [
      "Class C\n",
      "Calling super\n",
      "Class A\n",
      "Calling directly A.__init__\n",
      "Class A\n",
      "Calling directly B.__init__\n",
      "Class B\n"
     ]
    }
   ],
   "source": [
    "class A:\n",
    "    def __init__(self):\n",
    "        print('Class A')\n",
    "\n",
    "class B:\n",
    "    def __init__(self):\n",
    "        print('Class B')\n",
    "\n",
    "class C (A, B):\n",
    "    def __init__(self):\n",
    "        print('Class C')\n",
    "        print('Calling super')\n",
    "        super().__init__()\n",
    "        print('Calling directly A.__init__')\n",
    "        A.__init__(self)\n",
    "        print('Calling directly B.__init__')\n",
    "        B.__init__(self)\n",
    "\n",
    "c = C()"
   ]
  },
  {
   "cell_type": "markdown",
   "metadata": {
    "pycharm": {
     "name": "#%% md\n"
    }
   },
   "source": [
    "Powyższy przykład prezentował sposób wywołania konstruktorów bazowych, jednak tą samą technikę można wykorzystać przy wywoływaniu funkcji.\n",
    "\n",
    "## Anotacja `property`\n",
    "\n",
    "Z definicji klasa zawiera zmienne i funkcje, które określają jej cechy. Jak dotąd przedstawiony był sposób tworzenia zmiennych w konstruktorze i definiowania funkcji. Zmienne wchodzące w skład klasy można definiować również jako właściwości. Dostęp do nich wygląda podobnie jak dostęp do pól."
   ]
  },
  {
   "cell_type": "code",
   "execution_count": null,
   "metadata": {
    "pycharm": {
     "name": "#%%\n"
    }
   },
   "outputs": [],
   "source": [
    "class AuthorBook:\n",
    "    def __init__(self, author: str, title: str):\n",
    "        self._author = author\n",
    "        self._title = title\n",
    "\n",
    "    @property\n",
    "    def title(self):\n",
    "        return self._title.title()\n",
    "\n",
    "    @title.setter\n",
    "    def title(self, title: str):\n",
    "        self._title = title\n",
    "        # dodatkowa logika może zostać przekazana tutaj\n",
    "\n",
    "book = AuthorBook('Andrzej Sapkowski', 'Wiedźmin')\n",
    "book.title"
   ]
  },
  {
   "cell_type": "markdown",
   "metadata": {},
   "source": [
    "Stosowanie właściwości ma na celu umożliwienie programiście dodania kodu zawierającego logikę związaną z obsługą zmiany pola (np. przeliczenie powiązanych pól). Bardziej zaawansowanym przykładem stosowania pól jest użycie funkcji specjalnych `__get__` i `__set__`, które umożliwiają tworzenie własnych właściwości bez konieczności stosowania powyższej nomenklatury (kosztem czytelności i prostoty kodu).\n",
    "\n",
    "## Anotacje `staticmethod` i `classmethod`\n",
    "\n",
    "Funkcje statyczne są dość powszechnie stosowane w językach programowania obiektowego. Są to głównie funkcje, niezwiązane z konkretną instancją klasy, ale pod względem funkcjonalnym musi być z nią związana. W języku Python, aby funkcja była statyczna należy dodać anotację `staticmethod`. W argumentach nie może zawierać wskazania `self`, gdyż nie jest w żaden sposób związana z konkretną instancją klasy."
   ]
  },
  {
   "cell_type": "code",
   "execution_count": null,
   "metadata": {
    "pycharm": {
     "name": "#%%\n"
    }
   },
   "outputs": [],
   "source": [
    "class A:\n",
    "    @staticmethod\n",
    "    def static_test():\n",
    "        pass\n",
    "\n",
    "A.static_test()"
   ]
  },
  {
   "cell_type": "markdown",
   "metadata": {
    "pycharm": {
     "name": "#%% md\n"
    }
   },
   "source": [
    "Druga anotacja ma zastosowanie do inicjalizacji klasy w sposób niestandardowy. Przykładem może byc manualna serializacja i deserializacja  np. ze słownika."
   ]
  },
  {
   "cell_type": "code",
   "execution_count": 21,
   "metadata": {
    "pycharm": {
     "name": "#%%\n"
    }
   },
   "outputs": [],
   "source": [
    "from os import listdir\n",
    "from os.path import join\n",
    "\n",
    "\n",
    "default_data_dir = './data'\n",
    "\n",
    "class PathInput:\n",
    "    def __init__(self, path):\n",
    "        self.fullpath = path\n",
    "\n",
    "    @classmethod\n",
    "    def generate_inputs(cls, data_dir):\n",
    "        data_dir = data_dir or default_data_dir\n",
    "\n",
    "        for name in listdir(data_dir):\n",
    "             yield cls(join(data_dir, name))\n",
    "\n",
    "for path_input in PathInput.generate_inputs('./'):\n",
    "    pass"
   ]
  },
  {
   "cell_type": "markdown",
   "metadata": {
    "pycharm": {
     "name": "#%% md\n"
    }
   },
   "source": [
    "Funkcja `generate_inputs` nie zawiera podobnie jak funkcja statyczna zmiennej `self` wskazującej wartości zmiennych konkretnej instancji klasy. Podstawą różnicą jest argument `cls`, który pozwala tworzyć nową instancję klasy i ulega dziedziczeniu (w nowym typie po dziedziczeniu będzie wskazywał na nowy typ).\n",
    "\n",
    "## Definiowanie klas abstrakcyjnych\n",
    "\n",
    "Język Python nie zawiera interfejsów, a jedynie typy abstrakcyjne. Poniżej znajduje się przykład tworzenia klasy abstrakcyjnej."
   ]
  },
  {
   "cell_type": "code",
   "execution_count": null,
   "metadata": {
    "pycharm": {
     "name": "#%%\n"
    }
   },
   "outputs": [],
   "source": [
    "import abc\n",
    "\n",
    "class Shape(metaclass=abc.ABCMeta):\n",
    "    @abc.abstractmethod\n",
    "    def area(self):\n",
    "        pass\n",
    "\n",
    "class Rectangle(Shape):\n",
    "   def __init__(self, x,y):\n",
    "      self.x=x\n",
    "      self.y=y\n",
    "   def area(self):\n",
    "      return self.x*self.y"
   ]
  },
  {
   "cell_type": "markdown",
   "metadata": {
    "pycharm": {
     "name": "#%% md\n"
    }
   },
   "source": [
    "W momencie, gdy klasa dziedziczy po typie abstrakcyjnym, lecz nie implementuje jednej z abstrakcyjnych funkcji, środowisko uruchomieniowe wywoła wyjątek `TypeError`.\n",
    "\n",
    "## Mixin\n",
    "\n",
    "Dziedziczenie wielokrotne w języku Python umożliwia tworzenie bardzo wyspecjalizowanych klas, które można wstrzykiwać w hierarchię dziedziczenia, co często nazywane jest kompozycją funkcji. Należy również pamiętać, że nie jest to technika wspierana w samym języku Python, a sposób projektowania klas."
   ]
  },
  {
   "cell_type": "code",
   "execution_count": null,
   "metadata": {
    "pycharm": {
     "name": "#%%\n"
    }
   },
   "outputs": [],
   "source": [
    "class SerializerMixin:\n",
    "    def Write(self, dict):\n",
    "        pass\n",
    "\n",
    "class SerializableRectangle(SerializerMixin, Rectangle):\n",
    "    pass"
   ]
  },
  {
   "cell_type": "markdown",
   "metadata": {
    "pycharm": {
     "name": "#%% md\n"
    }
   },
   "source": [
    "Stosowanie powyższej techniki pozwala znacząco uprościć kod i jest zgodna z zasadą _DRY_ (Don't Repeat Yourself).\n",
    "\n",
    "## Kontenery na dane\n",
    "\n",
    "Anotacja `dataclass` umożliwia tworzenie prostych klas, których głównym zadaniem jest przechowywanie danych. Implementuje ona podstawowe operacje na danych jak porównywanie czy wyświetlanie informacji (implementacja funkcji `__repr__`)."
   ]
  },
  {
   "cell_type": "code",
   "execution_count": 14,
   "metadata": {
    "pycharm": {
     "name": "#%%\n"
    }
   },
   "outputs": [
    {
     "name": "stdout",
     "output_type": "stream",
     "text": [
      "Lukasz\n",
      "{'name': 'Lukasz', 'surname': 'Strak', 'band': []}\n"
     ]
    }
   ],
   "source": [
    "from dataclasses import dataclass, field, asdict\n",
    "from typing import List\n",
    "\n",
    "@dataclass\n",
    "class Employee:\n",
    "    name: str\n",
    "    surname: str = field(default='Not assigned')\n",
    "    band: List[int] = field(default_factory=list) # wartość inicjalna []\n",
    "\n",
    "\n",
    "emp = Employee(name='Lukasz', surname='Strak')\n",
    "print(emp.name)\n",
    "print(asdict(emp))"
   ]
  },
  {
   "cell_type": "markdown",
   "metadata": {
    "pycharm": {
     "name": "#%% md\n"
    }
   },
   "source": [
    "Użycie modułu `dataclass` pozwala zaoszczędzić wiele czasu na ręcznym tworzeniu klas.\n",
    "\n",
    "## Enums\n",
    "\n",
    "Enumeracje w języku Python są realizowane jako klasa dziedzicząca po `Enum`, a same wyliczenia przechowywane są w statycznych polach, tak jak pokazano w poniższym przykładzie."
   ]
  },
  {
   "cell_type": "code",
   "execution_count": 16,
   "metadata": {
    "pycharm": {
     "name": "#%%\n"
    }
   },
   "outputs": [
    {
     "name": "stdout",
     "output_type": "stream",
     "text": [
      "RED\n",
      "True\n"
     ]
    }
   ],
   "source": [
    "from enum import Enum\n",
    "\n",
    "class Color(Enum):\n",
    "    RED = 0\n",
    "    GREEN = 1\n",
    "    Yellow = 2\n",
    "\n",
    "\n",
    "def print_color(color: Color):\n",
    "    print(color.name)\n",
    "    print(color == Color.RED)\n",
    "\n",
    "\n",
    "print_color(Color.RED)"
   ]
  },
  {
   "cell_type": "markdown",
   "metadata": {
    "pycharm": {
     "name": "#%% md\n"
    }
   },
   "source": [
    "## Informacje o obiekcie w czasie wykonania\n",
    "\n",
    "Biblioteka standardowa zawiera wiele przydatnych funkcji, które umożliwiają uzyskanie informacji o instancji obiektu w czasie dziania programu."
   ]
  },
  {
   "cell_type": "code",
   "execution_count": 20,
   "metadata": {
    "pycharm": {
     "name": "#%%\n"
    }
   },
   "outputs": [
    {
     "name": "stdout",
     "output_type": "stream",
     "text": [
      "<class 'type'>\n",
      "['__class__', '__delattr__', '__dict__', '__dir__', '__doc__', '__eq__', '__format__', '__ge__', '__getattribute__', '__gt__', '__hash__', '__init__', '__init_subclass__', '__le__', '__lt__', '__module__', '__ne__', '__new__', '__reduce__', '__reduce_ex__', '__repr__', '__setattr__', '__sizeof__', '__str__', '__subclasshook__', '__weakref__', 'test']\n",
      "[<class '__main__.B'>, <class '__main__.A'>, <class 'object'>]\n",
      "True\n"
     ]
    }
   ],
   "source": [
    "class A:\n",
    "    pass\n",
    "\n",
    "class B(A):\n",
    "    def test(self):\n",
    "        pass\n",
    "\n",
    "# wyświetla typ danych\n",
    "print(type(B))\n",
    "\n",
    "# dir zwraca wszystkie składowe klasy\n",
    "print(dir(B()))\n",
    "\n",
    "# mro pozwala wyświetlić całą hierarchię dziedziczenia\n",
    "print(type(B).mro(B))\n",
    "\n",
    "# hasattr to funkcja wbudowana w język Python sprawdzająca czy dany typ zawiera funkcję lub pole dane łańcuchem znaków\n",
    "print(hasattr(B,'test'))"
   ]
  },
  {
   "cell_type": "markdown",
   "metadata": {
    "pycharm": {
     "name": "#%% md\n"
    }
   },
   "source": [
    "## Zadania do wykonania\n",
    "\n",
    "### Zadanie 1. Zaprojektuj klasę dla $kd$-drzewa.\n",
    "\n",
    "### Zadanie 2. Zaimplementuj wzorzec projektowy łańcuch odpowiedzialności na przykładzie obsługi żądania _http_ (symulacja), w którym przed faktycznym kodem obsługi błędu ma zostać sprawdzone czy użytkownik może wysłać danego typu żądanie, czy żądanie nie dotyczy pliku, czy liczba żądań na minutę nie jest przekroczona, czy liczba żądań na minutę nie jest przekroczona dla zalogowanego użytkownika, czy przesłany formularz nie jest próbą `sql incjection`.\n",
    "\n",
    "### Zadanie 3. Za pomocą dowolnego wzorca projektowego zaimplementuj mechanizm sprawdzający poprawność wyrażenia postaci:\n",
    "* a + b = c (poprawne),\n",
    "* (a + b = c (niepoprawne),\n",
    "* a + = c (niepoprawne)."
   ]
  },
  {
   "cell_type": "code",
   "execution_count": null,
   "metadata": {},
   "outputs": [],
   "source": [
    "from __future__ import annotations\n",
    "from collections import namedtuple\n",
    "from operator import itemgetter\n",
    "from typing import Any, Optional\n",
    "from abc import ABC, abstractmethod\n",
    "from pprint import pformat\n",
    "\n",
    "# ZADANIE 1\n",
    "class Node(namedtuple(\"Node\", \"loc left_child right_child\")):\n",
    "    def __repr__(self):\n",
    "        return pformat(tuple(self))\n",
    "    \n",
    "\n",
    "def kd_tree(kdtree_list, depth: int = 0):\n",
    "    if not kdtree_list:\n",
    "        return None\n",
    "\n",
    "    k = len(kdtree_list[0])\n",
    "    ax = depth % k\n",
    "\n",
    "    kdtree_list.sort(key=itemgetter(ax))\n",
    "    median = len(kdtree_list) // 2\n",
    "\n",
    "    return Node(\n",
    "        loc=kdtree_list[median],\n",
    "        left_child=kd_tree(kdtree_list[:median], depth + 1),\n",
    "        right_child=kd_tree(kdtree_list[median + 1 :], depth + 1),\n",
    "    )\n",
    "\n",
    "\n",
    "def main():\n",
    "    point_list = [(1, 3), (6, 2), (8, 5), (3, 1), (5, 8), (2, 4)]\n",
    "    tree = kd_tree(point_list)\n",
    "    print(tree)\n",
    "\n",
    "# ZADANIE 2\n",
    "class Context():\n",
    "\n",
    "    def __init__(self, strategy: Strategy) -> None:\n",
    "        self._strategy = strategy\n",
    "\n",
    "    @property\n",
    "    def strategy(self) -> Strategy:\n",
    "        return self._strategy\n",
    "\n",
    "    @strategy.setter\n",
    "    def strategy(self, strategy: Strategy) -> None:\n",
    "        self._strategy = strategy\n",
    "\n",
    "    def do_some_business_logic(self) -> None:\n",
    "        # ...\n",
    "\n",
    "        val = \"(a + b) = c\"\n",
    "        print(f\"Wyrażenie arytmetyczne: {val}\")\n",
    "        result = self._strategy.do_algorithm(val)\n",
    "        print(result)\n",
    "\n",
    "        # ...\n",
    "\n",
    "\n",
    "class Strategy(ABC):\n",
    "\n",
    "    @abstractmethod\n",
    "    def do_algorithm(self, string):\n",
    "        pass\n",
    "\n",
    "\n",
    "class ConcreteStrategyA(Strategy):\n",
    "    def do_algorithm(self, string):\n",
    "        valid: string = \"Poprawne\"\n",
    "        invalid: string = \"Niepoprawne\"\n",
    "        is_good: bool = False\n",
    "        is_not_mistaken: bool = False\n",
    "        counter_left = 0\n",
    "        counter_right = 0\n",
    "        arr = string.split(\" \")\n",
    "\n",
    "        string_2 = string.replace('(','')\n",
    "        string_for_checking = string_2.replace(')','')\n",
    "        arr_for_checking = string_for_checking.split(\" \")\n",
    "\n",
    "        for i in range(0, len(arr)):\n",
    "            if arr[i] == \"(\":\n",
    "                counter_left = counter_left + 1\n",
    "            elif arr[i] == \")\":\n",
    "                counter_right = counter_right + 1\n",
    "\n",
    "        for i in range(1, len(arr)):\n",
    "            if not arr_for_checking[i].isalpha() and not arr_for_checking[i - 1].isalpha():\n",
    "                is_not_mistaken = False\n",
    "                break\n",
    "            else:\n",
    "                is_not_mistaken = True\n",
    "\n",
    "        if counter_left == counter_left:\n",
    "            is_good = True\n",
    "\n",
    "        if is_good and is_not_mistaken:\n",
    "            return valid\n",
    "        else:\n",
    "            return invalid\n",
    "\n",
    "\n",
    "# ZADANIE 3\n",
    "class Req:\n",
    "  def __init__(self, name, authorized, is_file, request_amount, is_sql_injection):\n",
    "    self.name = name\n",
    "    self.authorized = authorized\n",
    "    self.is_file = is_file\n",
    "    self.request_amount = request_amount\n",
    "    self.is_sql_injection = is_sql_injection\n",
    "\n",
    "\n",
    "class Handler(ABC):\n",
    "\n",
    "    @abstractmethod\n",
    "    def set_next(self, handler: Handler) -> Handler:\n",
    "        pass\n",
    "\n",
    "    @abstractmethod\n",
    "    def handle(self, request) -> Optional[str]:\n",
    "        pass\n",
    "\n",
    "\n",
    "class AbstractHandler(Handler):\n",
    "    _next_handler: Handler = None\n",
    "\n",
    "    def set_next(self, handler: Handler) -> Handler:\n",
    "        self._next_handler = handler\n",
    "        return handler\n",
    "\n",
    "    @abstractmethod\n",
    "    def handle(self, request: Any) -> str:\n",
    "        if self._next_handler:\n",
    "            return self._next_handler.handle(request)\n",
    "\n",
    "        return None\n",
    "\n",
    "\n",
    "class AuthHandler(AbstractHandler):\n",
    "    def handle(self, request: Any) -> str:\n",
    "        if not request.authorized:\n",
    "            return f\"{request.name} nie jest autoryzowany\"\n",
    "        else:\n",
    "            return super().handle(request)\n",
    "\n",
    "\n",
    "class FileHandler(AbstractHandler):\n",
    "    def handle(self, request: Any) -> str:\n",
    "        if request.is_file:\n",
    "            return \"Żądanie dotyczy pliku\"\n",
    "        else:\n",
    "            return super().handle(request)\n",
    "\n",
    "\n",
    "class RequestAmountHandler(AbstractHandler):\n",
    "    def handle(self, request: Any) -> str:\n",
    "        if request.request_amount > 100:\n",
    "            return \"Przekroczono liczbę żądań\"\n",
    "        else:\n",
    "            return super().handle(request)\n",
    "\n",
    "\n",
    "class SqlInjectionHAndler(AbstractHandler):\n",
    "    def handle(self, request: Any) -> str:\n",
    "        if not request.is_sql_injection:\n",
    "            return f\"Żądanie użytkownika {request.name} zostało pomyślnie zwalidowane\"\n",
    "        else:\n",
    "            return super().handle(request)\n",
    "\n",
    "\n",
    "def client_code(handler: Handler) -> None:\n",
    "    p1 = Req(\"Przemysław\", True, True, 30, True)\n",
    "    p2 = Req(\"Ryszard\", False, True, 90, False)\n",
    "    p3 = Req(\"Damian\", True, False, 50, False)\n",
    "    p4 = Req(\"Marcin\", True, False, 110, False)\n",
    "    p5 = Req(\"Tomek\", True, False, 50, True)\n",
    "\n",
    "    for user in [p1, p2, p3, p4, p5]:\n",
    "        result = handler.handle(user)\n",
    "        if result:\n",
    "            print(f\"  {result}\")\n",
    "        else:\n",
    "            print(f\"  Żądanie {user.name} zablokowane\")\n",
    "\n",
    "\n",
    "if __name__ == \"__main__\":\n",
    "    # Zadanie 1\n",
    "    main()\n",
    "    \n",
    "    # Zadanie 2\n",
    "    context = Context(ConcreteStrategyA())\n",
    "    context.do_some_business_logic()\n",
    "    print()\n",
    "\n",
    "    # Zadanie 3\n",
    "    auth = AuthHandler()\n",
    "    file = FileHandler()\n",
    "    amount = RequestAmountHandler()\n",
    "    sql = SqlInjectionHAndler()\n",
    "\n",
    "    auth.set_next(file).set_next(amount).set_next(sql)\n",
    "\n",
    "    client_code(auth)\n",
    "\n"
   ]
  }
 ],
 "metadata": {
  "kernelspec": {
   "display_name": "Python 3",
   "language": "python",
   "name": "python3"
  },
  "language_info": {
   "codemirror_mode": {
    "name": "ipython",
    "version": 3
   },
   "file_extension": ".py",
   "mimetype": "text/x-python",
   "name": "python",
   "nbconvert_exporter": "python",
   "pygments_lexer": "ipython3",
   "version": "3.9.0"
  }
 },
 "nbformat": 4,
 "nbformat_minor": 1
}
